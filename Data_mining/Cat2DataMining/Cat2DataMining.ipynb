{
  "nbformat": 4,
  "nbformat_minor": 0,
  "metadata": {
    "colab": {
      "name": "Cat2DataMining.ipynb",
      "provenance": []
    },
    "kernelspec": {
      "name": "python3",
      "display_name": "Python 3"
    }
  },
  "cells": [
    {
      "cell_type": "code",
      "metadata": {
        "id": "sm5BfkM6Cu_r",
        "colab": {
          "resources": {
            "http://localhost:8080/nbextensions/google.colab/files.js": {
              "data": "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",
              "ok": true,
              "headers": [
                [
                  "content-type",
                  "application/javascript"
                ]
              ],
              "status": 200,
              "status_text": ""
            }
          },
          "base_uri": "https://localhost:8080/",
          "height": 72
        },
        "outputId": "4a327561-757d-48be-c368-3d9bcf62c61e"
      },
      "source": [
        "import pandas as pd\r\n",
        "from google.colab import files\r\n",
        "uploaded = files.upload()"
      ],
      "execution_count": 13,
      "outputs": [
        {
          "output_type": "display_data",
          "data": {
            "text/html": [
              "\n",
              "     <input type=\"file\" id=\"files-f251796d-5dbe-44cf-90fe-f0f89f1130d4\" name=\"files[]\" multiple disabled\n",
              "        style=\"border:none\" />\n",
              "     <output id=\"result-f251796d-5dbe-44cf-90fe-f0f89f1130d4\">\n",
              "      Upload widget is only available when the cell has been executed in the\n",
              "      current browser session. Please rerun this cell to enable.\n",
              "      </output>\n",
              "      <script src=\"/nbextensions/google.colab/files.js\"></script> "
            ],
            "text/plain": [
              "<IPython.core.display.HTML object>"
            ]
          },
          "metadata": {
            "tags": []
          }
        },
        {
          "output_type": "stream",
          "text": [
            "Saving intermediate_grades.xlsx to intermediate_grades.xlsx\n"
          ],
          "name": "stdout"
        }
      ]
    },
    {
      "cell_type": "code",
      "metadata": {
        "colab": {
          "base_uri": "https://localhost:8080/"
        },
        "id": "kFRbzPkVJicF",
        "outputId": "471ca20b-c600-4079-ffcf-aa6a46cb3cee"
      },
      "source": [
        "!pip install apyori\r\n",
        "!pip install apriori\r\n"
      ],
      "execution_count": 41,
      "outputs": [
        {
          "output_type": "stream",
          "text": [
            "Requirement already satisfied: apyori in /usr/local/lib/python3.7/dist-packages (1.1.2)\n",
            "Requirement already satisfied: apriori in /usr/local/lib/python3.7/dist-packages (1.0.0)\n"
          ],
          "name": "stdout"
        }
      ]
    },
    {
      "cell_type": "markdown",
      "metadata": {
        "id": "XlPDvfD8Yzd6"
      },
      "source": [
        "Apriori algorithm implementation"
      ]
    },
    {
      "cell_type": "code",
      "metadata": {
        "id": "qq5dqUKHJG1i",
        "colab": {
          "base_uri": "https://localhost:8080/"
        },
        "outputId": "818b6221-1d63-451a-8fed-42abe068bd4a"
      },
      "source": [
        "\r\n",
        "import numpy as np\r\n",
        "import matplotlib.pyplot as plt\r\n",
        "import pandas as pd\r\n",
        "from apyori import apriori\r\n",
        "\r\n",
        "\r\n",
        "dataset = pd.read_excel('intermediate_grades.xlsx',header=None)\r\n",
        "print(\"***********************************Apriori Algorithm***************************************\")\r\n",
        "print(\"-------------------------------------------------------------------------------------------\")\r\n",
        "\r\n",
        "row = len(dataset)\r\n",
        "column = len(dataset.columns)\r\n",
        "#print(row,\"\\n\", column)\r\n",
        "\r\n",
        "records = []\r\n",
        "for i in range(0, row):\r\n",
        "  records.append([str(dataset.values[i,j]) for j in range(0,column)])\r\n",
        "\r\n",
        "association_rules=apriori(records, min_support=0.0090,min_confidence=0.9, min_lift=3, min_length=3)\r\n",
        "association_results = list(association_rules)\r\n",
        "\r\n",
        "rules = (len(association_results))\r\n",
        "print(rules)\r\n",
        "\r\n",
        "for i in range(0,rules):\r\n",
        "  print('----------------------------------------------------')\r\n",
        "  print(association_results[i])\r\n",
        "print(\"=====================================\")\r\n",
        "\r\n",
        "for item in association_results:\r\n",
        "  pair = item[0]\r\n",
        "  items = [x for x in pair]\r\n",
        "print(\"Rule: \" + items[0] + \"-->\" + items[1])\r\n",
        "\r\n",
        "print(\"Support: \" + str(item[1]))\r\n",
        "print(\"Confidence: \" + str(item[2][0][2]))\r\n",
        "print(\"Lift: \" + str(item[2][0][3]))\r\n",
        "print(\"=====================================\")\r\n",
        "\r\n"
      ],
      "execution_count": 34,
      "outputs": [
        {
          "output_type": "stream",
          "text": [
            "***********************************Apriori Algorithm***************************************\n",
            "-------------------------------------------------------------------------------------------\n",
            "14\n",
            "----------------------------------------------------\n",
            "RelationRecord(items=frozenset({'3', '1.75'}), support=0.017241379310344827, ordered_statistics=[OrderedStatistic(items_base=frozenset({'1.75'}), items_add=frozenset({'3'}), confidence=1.0, lift=3.0526315789473686)])\n",
            "----------------------------------------------------\n",
            "RelationRecord(items=frozenset({'5', '3.25'}), support=0.034482758620689655, ordered_statistics=[OrderedStatistic(items_base=frozenset({'3.25'}), items_add=frozenset({'5'}), confidence=1.0, lift=3.135135135135135)])\n",
            "----------------------------------------------------\n",
            "RelationRecord(items=frozenset({'4', '3', '1.75'}), support=0.017241379310344827, ordered_statistics=[OrderedStatistic(items_base=frozenset({'1.75'}), items_add=frozenset({'4', '3'}), confidence=1.0, lift=4.461538461538462), OrderedStatistic(items_base=frozenset({'4', '1.75'}), items_add=frozenset({'3'}), confidence=1.0, lift=3.0526315789473686)])\n",
            "----------------------------------------------------\n",
            "RelationRecord(items=frozenset({'5', '2.25', '6'}), support=0.017241379310344827, ordered_statistics=[OrderedStatistic(items_base=frozenset({'2.25', '6'}), items_add=frozenset({'5'}), confidence=1.0, lift=3.135135135135135)])\n",
            "----------------------------------------------------\n",
            "RelationRecord(items=frozenset({'3', '2.5', '2.75'}), support=0.017241379310344827, ordered_statistics=[OrderedStatistic(items_base=frozenset({'2.5', '2.75'}), items_add=frozenset({'3'}), confidence=1.0, lift=3.0526315789473686)])\n",
            "----------------------------------------------------\n",
            "RelationRecord(items=frozenset({'4', '5', '3.25'}), support=0.034482758620689655, ordered_statistics=[OrderedStatistic(items_base=frozenset({'3.25'}), items_add=frozenset({'4', '5'}), confidence=1.0, lift=3.515151515151515), OrderedStatistic(items_base=frozenset({'4', '3.25'}), items_add=frozenset({'5'}), confidence=1.0, lift=3.135135135135135)])\n",
            "----------------------------------------------------\n",
            "RelationRecord(items=frozenset({'5', '5.5', '3.25'}), support=0.017241379310344827, ordered_statistics=[OrderedStatistic(items_base=frozenset({'5.5', '3.25'}), items_add=frozenset({'5'}), confidence=1.0, lift=3.135135135135135)])\n",
            "----------------------------------------------------\n",
            "RelationRecord(items=frozenset({'4', '0.5', '3', '0'}), support=0.017241379310344827, ordered_statistics=[OrderedStatistic(items_base=frozenset({'3', '0.5'}), items_add=frozenset({'4', '0'}), confidence=1.0, lift=5.043478260869565)])\n",
            "----------------------------------------------------\n",
            "RelationRecord(items=frozenset({'4.5', '3', '2', '0'}), support=0.017241379310344827, ordered_statistics=[OrderedStatistic(items_base=frozenset({'4.5', '2', '0'}), items_add=frozenset({'3'}), confidence=1.0, lift=3.0526315789473686)])\n",
            "----------------------------------------------------\n",
            "RelationRecord(items=frozenset({'5', '4.5', '2.25', '0'}), support=0.017241379310344827, ordered_statistics=[OrderedStatistic(items_base=frozenset({'5', '4.5', '0'}), items_add=frozenset({'2.25'}), confidence=1.0, lift=16.57142857142857)])\n",
            "----------------------------------------------------\n",
            "RelationRecord(items=frozenset({'4', '2.25', '5', '6'}), support=0.017241379310344827, ordered_statistics=[OrderedStatistic(items_base=frozenset({'2.25', '6'}), items_add=frozenset({'4', '5'}), confidence=1.0, lift=3.515151515151515), OrderedStatistic(items_base=frozenset({'4', '2.25', '6'}), items_add=frozenset({'5'}), confidence=1.0, lift=3.135135135135135)])\n",
            "----------------------------------------------------\n",
            "RelationRecord(items=frozenset({'4', '5', '5.5', '3.25'}), support=0.017241379310344827, ordered_statistics=[OrderedStatistic(items_base=frozenset({'5.5', '3.25'}), items_add=frozenset({'4', '5'}), confidence=1.0, lift=3.515151515151515), OrderedStatistic(items_base=frozenset({'4', '5.5', '3.25'}), items_add=frozenset({'5'}), confidence=1.0, lift=3.135135135135135)])\n",
            "----------------------------------------------------\n",
            "RelationRecord(items=frozenset({'4', '5', '3.5', '5.5'}), support=0.017241379310344827, ordered_statistics=[OrderedStatistic(items_base=frozenset({'4', '3.5', '5.5'}), items_add=frozenset({'5'}), confidence=1.0, lift=3.135135135135135)])\n",
            "----------------------------------------------------\n",
            "RelationRecord(items=frozenset({'5', '4', '0', '4.5', '2.25'}), support=0.017241379310344827, ordered_statistics=[OrderedStatistic(items_base=frozenset({'5', '2.25', '0'}), items_add=frozenset({'4', '4.5'}), confidence=1.0, lift=4.0), OrderedStatistic(items_base=frozenset({'5', '4.5', '0'}), items_add=frozenset({'4', '2.25'}), confidence=1.0, lift=19.333333333333332), OrderedStatistic(items_base=frozenset({'5', '4.5', '2.25'}), items_add=frozenset({'4', '0'}), confidence=1.0, lift=5.043478260869565), OrderedStatistic(items_base=frozenset({'4', '4.5', '5', '0'}), items_add=frozenset({'2.25'}), confidence=1.0, lift=16.57142857142857)])\n",
            "=====================================\n",
            "Rule: 5-->4\n",
            "Support: 0.017241379310344827\n",
            "Confidence: 1.0\n",
            "Lift: 4.0\n",
            "=====================================\n"
          ],
          "name": "stdout"
        }
      ]
    },
    {
      "cell_type": "code",
      "metadata": {
        "colab": {
          "base_uri": "https://localhost:8080/",
          "height": 493
        },
        "id": "KchfrDOALt2k",
        "outputId": "9c35053d-8812-4823-adbe-54f8b918bb36"
      },
      "source": [
        "import numpy as np \r\n",
        "import pandas as pd \r\n",
        "from sklearn.metrics import confusion_matrix \r\n",
        "from sklearn.model_selection import train_test_split \r\n",
        "from sklearn.tree import DecisionTreeClassifier \r\n",
        "from sklearn.metrics import accuracy_score \r\n",
        "from sklearn.metrics import classification_report \r\n",
        "from sklearn import datasets\r\n",
        "from sklearn import metrics\r\n",
        "#from sklearn.naive_bayes import GaussianNB\r\n",
        "  \r\n",
        "# Function importing Dataset \r\n",
        "def importdata(): \r\n",
        "    dataset = pd.read_excel(\"intermediate_grades.xlsx\") \r\n",
        "    diabetes_data=dataset\r\n",
        "     # Printing the dataset shape \r\n",
        "    print (\"Dataset Length: \", len(diabetes_data)) \r\n",
        "    print (\"Dataset Shape: \", diabetes_data.shape) \r\n",
        "    print()\r\n",
        "    # Printing the dataset obseravtions \r\n",
        "    return diabetes_data\r\n",
        "\r\n",
        "# Function to split the dataset \r\n",
        "def splitdataset(data): \r\n",
        "  \r\n",
        "    # Separating the target variable \r\n",
        "    X = data.values[:, 0:5] \r\n",
        "    Y = data.values[:, 5] \r\n",
        "    print(\"X=\",X.shape)\r\n",
        "    print(\"X=\",X.shape)\r\n",
        "  \r\n",
        "   \r\n",
        "    # Splitting the dataset into train and test \r\n",
        "    X_train, X_test, y_train, y_test = train_test_split(  \r\n",
        "    X, Y, test_size = 0.3, random_state = 100) \r\n",
        "    print(\"X_train=\",X_train.shape)\r\n",
        "    print(\"Y_train=\",y_train.shape)\r\n",
        "    print(\"X_test=\",X_test.shape)\r\n",
        "    print(\"Y_test=\",y_test.shape)\r\n",
        "      \r\n",
        "    return X, Y, X_train, X_test, y_train, y_test \r\n",
        "\r\n",
        "def train_using_gini(X_train, X_test, y_train): \r\n",
        "  \r\n",
        "    # Creating the classifier object \r\n",
        "    clf_gini = DecisionTreeClassifier(criterion = \"gini\", \r\n",
        "            random_state = 100,max_depth=3, min_samples_leaf=5) \r\n",
        "  \r\n",
        "    # Performing training \r\n",
        "    clf_gini.fit(X_train, y_train) \r\n",
        "    return clf_gini \r\n",
        "      \r\n",
        "def tarin_using_entropy(X_train, X_test, y_train): \r\n",
        "  \r\n",
        "    # Decision tree with entropy \r\n",
        "    clf_entropy = DecisionTreeClassifier( \r\n",
        "            criterion = \"entropy\", random_state = 100, \r\n",
        "            max_depth = 3, min_samples_leaf = 5) \r\n",
        "  \r\n",
        "    # Performing training \r\n",
        "    clf_entropy.fit(X_train, y_train) \r\n",
        "    return clf_entropy \r\n",
        "\r\n",
        "def prediction(X_test, clf_object): \r\n",
        "  \r\n",
        "    # Predicton on test with giniIndex \r\n",
        "    y_pred = clf_object.predict(X_test) \r\n",
        "    print(\"Predicted values:\") \r\n",
        "    print(y_pred) \r\n",
        "    print()\r\n",
        "    return y_pred \r\n",
        "      \r\n",
        "# Function to calculate accuracy \r\n",
        "def cal_accuracy(y_test, y_pred): \r\n",
        "      \r\n",
        "    print(\"Confusion Matrix with size \",confusion_matrix(y_test, y_pred).shape)\r\n",
        "    print( confusion_matrix(y_test, y_pred))  \r\n",
        "    print()\r\n",
        "      \r\n",
        "    print (\"Accuracy : \")\r\n",
        "    print(accuracy_score(y_test,y_pred)*100) \r\n",
        "    print()\r\n",
        "      \r\n",
        "    print(\"Report : \")\r\n",
        "    print(classification_report(y_test, y_pred)) \r\n",
        "    print()\r\n",
        "  \r\n",
        "# Driver code \r\n",
        "def main(): \r\n",
        "      \r\n",
        "    # Building Phase \r\n",
        "    data = importdata() \r\n",
        "    X, Y, X_train, X_test, y_train, y_test = splitdataset(data) \r\n",
        "    clf_gini = train_using_gini(X_train, X_test, y_train) \r\n",
        "    clf_entropy = tarin_using_entropy(X_train, X_test, y_train) \r\n",
        "      \r\n",
        "    # Operational Phase \r\n",
        "    print(\"Results Using Gini Index\") \r\n",
        "      \r\n",
        "    # Prediction using gini \r\n",
        "    y_pred_gini = prediction(X_test, clf_gini) \r\n",
        "    cal_accuracy(y_test, y_pred_gini) \r\n",
        "      \r\n",
        "    print(\"Results Using Entropy\")\r\n",
        "    # Prediction using entropy \r\n",
        "    y_pred_entropy = prediction(X_test, clf_entropy) \r\n",
        "    cal_accuracy(y_test, y_pred_entropy) \r\n",
        "      \r\n",
        "      \r\n",
        "# Calling main function \r\n",
        "if __name__==\"__main__\": \r\n",
        "    main()"
      ],
      "execution_count": 40,
      "outputs": [
        {
          "output_type": "stream",
          "text": [
            "Dataset Length:  115\n",
            "Dataset Shape:  (115, 6)\n",
            "\n",
            "X= (115, 5)\n",
            "X= (115, 5)\n",
            "X_train= (80, 5)\n",
            "Y_train= (80,)\n",
            "X_test= (35, 5)\n",
            "Y_test= (35,)\n"
          ],
          "name": "stdout"
        },
        {
          "output_type": "error",
          "ename": "ValueError",
          "evalue": "ignored",
          "traceback": [
            "\u001b[0;31m---------------------------------------------------------------------------\u001b[0m",
            "\u001b[0;31mValueError\u001b[0m                                Traceback (most recent call last)",
            "\u001b[0;32m<ipython-input-40-f87e295bd299>\u001b[0m in \u001b[0;36m<module>\u001b[0;34m()\u001b[0m\n\u001b[1;32m    110\u001b[0m \u001b[0;31m# Calling main function\u001b[0m\u001b[0;34m\u001b[0m\u001b[0;34m\u001b[0m\u001b[0;34m\u001b[0m\u001b[0m\n\u001b[1;32m    111\u001b[0m \u001b[0;32mif\u001b[0m \u001b[0m__name__\u001b[0m\u001b[0;34m==\u001b[0m\u001b[0;34m\"__main__\"\u001b[0m\u001b[0;34m:\u001b[0m\u001b[0;34m\u001b[0m\u001b[0;34m\u001b[0m\u001b[0m\n\u001b[0;32m--> 112\u001b[0;31m     \u001b[0mmain\u001b[0m\u001b[0;34m(\u001b[0m\u001b[0;34m)\u001b[0m\u001b[0;34m\u001b[0m\u001b[0;34m\u001b[0m\u001b[0m\n\u001b[0m",
            "\u001b[0;32m<ipython-input-40-f87e295bd299>\u001b[0m in \u001b[0;36mmain\u001b[0;34m()\u001b[0m\n\u001b[1;32m     92\u001b[0m     \u001b[0mdata\u001b[0m \u001b[0;34m=\u001b[0m \u001b[0mimportdata\u001b[0m\u001b[0;34m(\u001b[0m\u001b[0;34m)\u001b[0m\u001b[0;34m\u001b[0m\u001b[0;34m\u001b[0m\u001b[0m\n\u001b[1;32m     93\u001b[0m     \u001b[0mX\u001b[0m\u001b[0;34m,\u001b[0m \u001b[0mY\u001b[0m\u001b[0;34m,\u001b[0m \u001b[0mX_train\u001b[0m\u001b[0;34m,\u001b[0m \u001b[0mX_test\u001b[0m\u001b[0;34m,\u001b[0m \u001b[0my_train\u001b[0m\u001b[0;34m,\u001b[0m \u001b[0my_test\u001b[0m \u001b[0;34m=\u001b[0m \u001b[0msplitdataset\u001b[0m\u001b[0;34m(\u001b[0m\u001b[0mdata\u001b[0m\u001b[0;34m)\u001b[0m\u001b[0;34m\u001b[0m\u001b[0;34m\u001b[0m\u001b[0m\n\u001b[0;32m---> 94\u001b[0;31m     \u001b[0mclf_gini\u001b[0m \u001b[0;34m=\u001b[0m \u001b[0mtrain_using_gini\u001b[0m\u001b[0;34m(\u001b[0m\u001b[0mX_train\u001b[0m\u001b[0;34m,\u001b[0m \u001b[0mX_test\u001b[0m\u001b[0;34m,\u001b[0m \u001b[0my_train\u001b[0m\u001b[0;34m)\u001b[0m\u001b[0;34m\u001b[0m\u001b[0;34m\u001b[0m\u001b[0m\n\u001b[0m\u001b[1;32m     95\u001b[0m     \u001b[0mclf_entropy\u001b[0m \u001b[0;34m=\u001b[0m \u001b[0mtarin_using_entropy\u001b[0m\u001b[0;34m(\u001b[0m\u001b[0mX_train\u001b[0m\u001b[0;34m,\u001b[0m \u001b[0mX_test\u001b[0m\u001b[0;34m,\u001b[0m \u001b[0my_train\u001b[0m\u001b[0;34m)\u001b[0m\u001b[0;34m\u001b[0m\u001b[0;34m\u001b[0m\u001b[0m\n\u001b[1;32m     96\u001b[0m \u001b[0;34m\u001b[0m\u001b[0m\n",
            "\u001b[0;32m<ipython-input-40-f87e295bd299>\u001b[0m in \u001b[0;36mtrain_using_gini\u001b[0;34m(X_train, X_test, y_train)\u001b[0m\n\u001b[1;32m     48\u001b[0m \u001b[0;34m\u001b[0m\u001b[0m\n\u001b[1;32m     49\u001b[0m     \u001b[0;31m# Performing training\u001b[0m\u001b[0;34m\u001b[0m\u001b[0;34m\u001b[0m\u001b[0;34m\u001b[0m\u001b[0m\n\u001b[0;32m---> 50\u001b[0;31m     \u001b[0mclf_gini\u001b[0m\u001b[0;34m.\u001b[0m\u001b[0mfit\u001b[0m\u001b[0;34m(\u001b[0m\u001b[0mX_train\u001b[0m\u001b[0;34m,\u001b[0m \u001b[0my_train\u001b[0m\u001b[0;34m)\u001b[0m\u001b[0;34m\u001b[0m\u001b[0;34m\u001b[0m\u001b[0m\n\u001b[0m\u001b[1;32m     51\u001b[0m     \u001b[0;32mreturn\u001b[0m \u001b[0mclf_gini\u001b[0m\u001b[0;34m\u001b[0m\u001b[0;34m\u001b[0m\u001b[0m\n\u001b[1;32m     52\u001b[0m \u001b[0;34m\u001b[0m\u001b[0m\n",
            "\u001b[0;32m/usr/local/lib/python3.7/dist-packages/sklearn/tree/_classes.py\u001b[0m in \u001b[0;36mfit\u001b[0;34m(self, X, y, sample_weight, check_input, X_idx_sorted)\u001b[0m\n\u001b[1;32m    875\u001b[0m             \u001b[0msample_weight\u001b[0m\u001b[0;34m=\u001b[0m\u001b[0msample_weight\u001b[0m\u001b[0;34m,\u001b[0m\u001b[0;34m\u001b[0m\u001b[0;34m\u001b[0m\u001b[0m\n\u001b[1;32m    876\u001b[0m             \u001b[0mcheck_input\u001b[0m\u001b[0;34m=\u001b[0m\u001b[0mcheck_input\u001b[0m\u001b[0;34m,\u001b[0m\u001b[0;34m\u001b[0m\u001b[0;34m\u001b[0m\u001b[0m\n\u001b[0;32m--> 877\u001b[0;31m             X_idx_sorted=X_idx_sorted)\n\u001b[0m\u001b[1;32m    878\u001b[0m         \u001b[0;32mreturn\u001b[0m \u001b[0mself\u001b[0m\u001b[0;34m\u001b[0m\u001b[0;34m\u001b[0m\u001b[0m\n\u001b[1;32m    879\u001b[0m \u001b[0;34m\u001b[0m\u001b[0m\n",
            "\u001b[0;32m/usr/local/lib/python3.7/dist-packages/sklearn/tree/_classes.py\u001b[0m in \u001b[0;36mfit\u001b[0;34m(self, X, y, sample_weight, check_input, X_idx_sorted)\u001b[0m\n\u001b[1;32m    171\u001b[0m \u001b[0;34m\u001b[0m\u001b[0m\n\u001b[1;32m    172\u001b[0m         \u001b[0;32mif\u001b[0m \u001b[0mis_classification\u001b[0m\u001b[0;34m:\u001b[0m\u001b[0;34m\u001b[0m\u001b[0;34m\u001b[0m\u001b[0m\n\u001b[0;32m--> 173\u001b[0;31m             \u001b[0mcheck_classification_targets\u001b[0m\u001b[0;34m(\u001b[0m\u001b[0my\u001b[0m\u001b[0;34m)\u001b[0m\u001b[0;34m\u001b[0m\u001b[0;34m\u001b[0m\u001b[0m\n\u001b[0m\u001b[1;32m    174\u001b[0m             \u001b[0my\u001b[0m \u001b[0;34m=\u001b[0m \u001b[0mnp\u001b[0m\u001b[0;34m.\u001b[0m\u001b[0mcopy\u001b[0m\u001b[0;34m(\u001b[0m\u001b[0my\u001b[0m\u001b[0;34m)\u001b[0m\u001b[0;34m\u001b[0m\u001b[0;34m\u001b[0m\u001b[0m\n\u001b[1;32m    175\u001b[0m \u001b[0;34m\u001b[0m\u001b[0m\n",
            "\u001b[0;32m/usr/local/lib/python3.7/dist-packages/sklearn/utils/multiclass.py\u001b[0m in \u001b[0;36mcheck_classification_targets\u001b[0;34m(y)\u001b[0m\n\u001b[1;32m    167\u001b[0m     if y_type not in ['binary', 'multiclass', 'multiclass-multioutput',\n\u001b[1;32m    168\u001b[0m                       'multilabel-indicator', 'multilabel-sequences']:\n\u001b[0;32m--> 169\u001b[0;31m         \u001b[0;32mraise\u001b[0m \u001b[0mValueError\u001b[0m\u001b[0;34m(\u001b[0m\u001b[0;34m\"Unknown label type: %r\"\u001b[0m \u001b[0;34m%\u001b[0m \u001b[0my_type\u001b[0m\u001b[0;34m)\u001b[0m\u001b[0;34m\u001b[0m\u001b[0;34m\u001b[0m\u001b[0m\n\u001b[0m\u001b[1;32m    170\u001b[0m \u001b[0;34m\u001b[0m\u001b[0m\n\u001b[1;32m    171\u001b[0m \u001b[0;34m\u001b[0m\u001b[0m\n",
            "\u001b[0;31mValueError\u001b[0m: Unknown label type: 'continuous'"
          ]
        }
      ]
    }
  ]
}